{
 "cells": [
  {
   "cell_type": "markdown",
   "metadata": {},
   "source": [
    "# Sentiment Analysis"
   ]
  },
  {
   "cell_type": "code",
   "execution_count": 1,
   "metadata": {},
   "outputs": [],
   "source": [
    "import pandas as pd\n",
    "import numpy as np\n",
    "import matplotlib.pyplot as plt\n",
    "import seaborn as sns\n",
    "import random"
   ]
  },
  {
   "cell_type": "code",
   "execution_count": 2,
   "metadata": {},
   "outputs": [
    {
     "data": {
      "text/plain": [
       "(1997901, 7)"
      ]
     },
     "execution_count": 2,
     "metadata": {},
     "output_type": "execute_result"
    }
   ],
   "source": [
    "english_news = pd.read_csv(\"data/english_news.csv\")\n",
    "english_news.shape"
   ]
  },
  {
   "cell_type": "code",
   "execution_count": 16,
   "metadata": {},
   "outputs": [],
   "source": [
    "business = english_news[english_news[\"section\"]==\"business\"]\n",
    "business = business.reset_index().drop(columns=[\"index\"])\n",
    "index_random = random.sample(list(business.index),60000)\n",
    "english_random = business.iloc[index_random,:]\n",
    "english_random = english_random.drop(columns=[\"source\", \"published_date\", \"section\", \"published_date_clean\", \"year\", \"language\"])\n",
    "english_random = english_random.reset_index().drop(columns=[\"index\"])\n",
    "english_random.to_csv(\"data/news_title_samples2.csv\", index=False)"
   ]
  },
  {
   "cell_type": "code",
   "execution_count": 21,
   "metadata": {},
   "outputs": [
    {
     "data": {
      "text/plain": [
       "(783157, 7)"
      ]
     },
     "execution_count": 21,
     "metadata": {},
     "output_type": "execute_result"
    }
   ],
   "source": [
    "business = english_news[english_news[\"section\"]==\"business\"]\n",
    "business = business.reset_index().drop(columns=[\"index\"])\n",
    "business.shape"
   ]
  },
  {
   "cell_type": "code",
   "execution_count": 22,
   "metadata": {},
   "outputs": [
    {
     "data": {
      "text/html": [
       "<div>\n",
       "<style scoped>\n",
       "    .dataframe tbody tr th:only-of-type {\n",
       "        vertical-align: middle;\n",
       "    }\n",
       "\n",
       "    .dataframe tbody tr th {\n",
       "        vertical-align: top;\n",
       "    }\n",
       "\n",
       "    .dataframe thead th {\n",
       "        text-align: right;\n",
       "    }\n",
       "</style>\n",
       "<table border=\"1\" class=\"dataframe\">\n",
       "  <thead>\n",
       "    <tr style=\"text-align: right;\">\n",
       "      <th></th>\n",
       "      <th>title</th>\n",
       "      <th>published_date</th>\n",
       "      <th>source</th>\n",
       "      <th>section</th>\n",
       "      <th>language</th>\n",
       "      <th>published_date_clean</th>\n",
       "      <th>year</th>\n",
       "    </tr>\n",
       "  </thead>\n",
       "  <tbody>\n",
       "    <tr>\n",
       "      <th>0</th>\n",
       "      <td>Crossing the border for greater opportunities</td>\n",
       "      <td>1970-01-01T08:00:00+08:00</td>\n",
       "      <td>South China Morning Post</td>\n",
       "      <td>business</td>\n",
       "      <td>english</td>\n",
       "      <td>1970-01-01</td>\n",
       "      <td>1970</td>\n",
       "    </tr>\n",
       "    <tr>\n",
       "      <th>1</th>\n",
       "      <td>Tram a better alternative for Penang</td>\n",
       "      <td>2009-01-16T12:03:58+08:00</td>\n",
       "      <td>The Edge Markets</td>\n",
       "      <td>business</td>\n",
       "      <td>english</td>\n",
       "      <td>2009-01-16</td>\n",
       "      <td>2009</td>\n",
       "    </tr>\n",
       "    <tr>\n",
       "      <th>2</th>\n",
       "      <td>The new face of Australian wealth</td>\n",
       "      <td>2009-01-20T18:30:00+08:00</td>\n",
       "      <td>The Edge Markets</td>\n",
       "      <td>business</td>\n",
       "      <td>english</td>\n",
       "      <td>2009-01-20</td>\n",
       "      <td>2009</td>\n",
       "    </tr>\n",
       "    <tr>\n",
       "      <th>3</th>\n",
       "      <td>Franklin Templeton takes 40% stake in Algebra</td>\n",
       "      <td>2009-03-23T16:00:00+00:00</td>\n",
       "      <td>The National</td>\n",
       "      <td>business</td>\n",
       "      <td>english</td>\n",
       "      <td>2009-03-23</td>\n",
       "      <td>2009</td>\n",
       "    </tr>\n",
       "    <tr>\n",
       "      <th>4</th>\n",
       "      <td>Merged Emaar, Dubai Holding will dominate loca...</td>\n",
       "      <td>2009-07-27T16:00:00+00:00</td>\n",
       "      <td>The National</td>\n",
       "      <td>business</td>\n",
       "      <td>english</td>\n",
       "      <td>2009-07-27</td>\n",
       "      <td>2009</td>\n",
       "    </tr>\n",
       "  </tbody>\n",
       "</table>\n",
       "</div>"
      ],
      "text/plain": [
       "                                               title  \\\n",
       "0      Crossing the border for greater opportunities   \n",
       "1               Tram a better alternative for Penang   \n",
       "2                  The new face of Australian wealth   \n",
       "3      Franklin Templeton takes 40% stake in Algebra   \n",
       "4  Merged Emaar, Dubai Holding will dominate loca...   \n",
       "\n",
       "              published_date                    source   section language  \\\n",
       "0  1970-01-01T08:00:00+08:00  South China Morning Post  business  english   \n",
       "1  2009-01-16T12:03:58+08:00          The Edge Markets  business  english   \n",
       "2  2009-01-20T18:30:00+08:00          The Edge Markets  business  english   \n",
       "3  2009-03-23T16:00:00+00:00              The National  business  english   \n",
       "4  2009-07-27T16:00:00+00:00              The National  business  english   \n",
       "\n",
       "  published_date_clean  year  \n",
       "0           1970-01-01  1970  \n",
       "1           2009-01-16  2009  \n",
       "2           2009-01-20  2009  \n",
       "3           2009-03-23  2009  \n",
       "4           2009-07-27  2009  "
      ]
     },
     "execution_count": 22,
     "metadata": {},
     "output_type": "execute_result"
    }
   ],
   "source": [
    "business.head()"
   ]
  },
  {
   "cell_type": "code",
   "execution_count": 18,
   "metadata": {},
   "outputs": [
    {
     "data": {
      "text/plain": [
       "world        792367\n",
       "business     783157\n",
       "local        392622\n",
       "opinion       15964\n",
       "regulator     13791\n",
       "Name: section, dtype: int64"
      ]
     },
     "execution_count": 18,
     "metadata": {},
     "output_type": "execute_result"
    }
   ],
   "source": [
    "english_news[\"section\"].value_counts()"
   ]
  },
  {
   "cell_type": "code",
   "execution_count": 14,
   "metadata": {},
   "outputs": [
    {
     "data": {
      "text/html": [
       "<div>\n",
       "<style scoped>\n",
       "    .dataframe tbody tr th:only-of-type {\n",
       "        vertical-align: middle;\n",
       "    }\n",
       "\n",
       "    .dataframe tbody tr th {\n",
       "        vertical-align: top;\n",
       "    }\n",
       "\n",
       "    .dataframe thead th {\n",
       "        text-align: right;\n",
       "    }\n",
       "</style>\n",
       "<table border=\"1\" class=\"dataframe\">\n",
       "  <thead>\n",
       "    <tr style=\"text-align: right;\">\n",
       "      <th></th>\n",
       "      <th>title</th>\n",
       "      <th>language</th>\n",
       "    </tr>\n",
       "  </thead>\n",
       "  <tbody>\n",
       "    <tr>\n",
       "      <th>0</th>\n",
       "      <td>First Lufthansa plane with Afghanistan evacuee...</td>\n",
       "      <td>english</td>\n",
       "    </tr>\n",
       "    <tr>\n",
       "      <th>1</th>\n",
       "      <td>Malaysia facing shortage of medication supplies</td>\n",
       "      <td>english</td>\n",
       "    </tr>\n",
       "    <tr>\n",
       "      <th>2</th>\n",
       "      <td>New flooding hotspot: Delhi deputy CM Manish S...</td>\n",
       "      <td>english</td>\n",
       "    </tr>\n",
       "    <tr>\n",
       "      <th>3</th>\n",
       "      <td>Man loses thumb after being attacked over pet ...</td>\n",
       "      <td>english</td>\n",
       "    </tr>\n",
       "    <tr>\n",
       "      <th>4</th>\n",
       "      <td>Australia starts vaccine rollout amid controversy</td>\n",
       "      <td>english</td>\n",
       "    </tr>\n",
       "  </tbody>\n",
       "</table>\n",
       "</div>"
      ],
      "text/plain": [
       "                                               title language\n",
       "0  First Lufthansa plane with Afghanistan evacuee...  english\n",
       "1    Malaysia facing shortage of medication supplies  english\n",
       "2  New flooding hotspot: Delhi deputy CM Manish S...  english\n",
       "3  Man loses thumb after being attacked over pet ...  english\n",
       "4  Australia starts vaccine rollout amid controversy  english"
      ]
     },
     "execution_count": 14,
     "metadata": {},
     "output_type": "execute_result"
    }
   ],
   "source": []
  },
  {
   "cell_type": "code",
   "execution_count": 125,
   "metadata": {},
   "outputs": [
    {
     "data": {
      "text/html": [
       "<div>\n",
       "<style scoped>\n",
       "    .dataframe tbody tr th:only-of-type {\n",
       "        vertical-align: middle;\n",
       "    }\n",
       "\n",
       "    .dataframe tbody tr th {\n",
       "        vertical-align: top;\n",
       "    }\n",
       "\n",
       "    .dataframe thead th {\n",
       "        text-align: right;\n",
       "    }\n",
       "</style>\n",
       "<table border=\"1\" class=\"dataframe\">\n",
       "  <thead>\n",
       "    <tr style=\"text-align: right;\">\n",
       "      <th></th>\n",
       "      <th>title</th>\n",
       "      <th>published_date</th>\n",
       "      <th>source</th>\n",
       "      <th>section</th>\n",
       "      <th>language</th>\n",
       "    </tr>\n",
       "  </thead>\n",
       "  <tbody>\n",
       "    <tr>\n",
       "      <th>0</th>\n",
       "      <td>U.S. will not lift sanctions to get Iran to ne...</td>\n",
       "      <td>2021-02-08T02:51:00.000Z</td>\n",
       "      <td>The Star</td>\n",
       "      <td>world</td>\n",
       "      <td>english</td>\n",
       "    </tr>\n",
       "    <tr>\n",
       "      <th>1</th>\n",
       "      <td>German SPD targets climate-neutral economy in ...</td>\n",
       "      <td>2021-02-08T02:05:00.000Z</td>\n",
       "      <td>The Star</td>\n",
       "      <td>world</td>\n",
       "      <td>english</td>\n",
       "    </tr>\n",
       "    <tr>\n",
       "      <th>2</th>\n",
       "      <td>Ireland open to modest extensions to Northern ...</td>\n",
       "      <td>2021-02-07T14:16:32Z</td>\n",
       "      <td>Reuters</td>\n",
       "      <td>world</td>\n",
       "      <td>english</td>\n",
       "    </tr>\n",
       "    <tr>\n",
       "      <th>3</th>\n",
       "      <td>The Next Technology Counter To Fly After YBS (...</td>\n",
       "      <td>2021-02-08T02:41:22+0800</td>\n",
       "      <td>klse.i3investor</td>\n",
       "      <td>business</td>\n",
       "      <td>english</td>\n",
       "    </tr>\n",
       "    <tr>\n",
       "      <th>4</th>\n",
       "      <td>Reagan’s longtime secretary of state George Sh...</td>\n",
       "      <td>2021-02-06T16:00:00+00:00</td>\n",
       "      <td>The National</td>\n",
       "      <td>world</td>\n",
       "      <td>english</td>\n",
       "    </tr>\n",
       "  </tbody>\n",
       "</table>\n",
       "</div>"
      ],
      "text/plain": [
       "                                               title  \\\n",
       "0  U.S. will not lift sanctions to get Iran to ne...   \n",
       "1  German SPD targets climate-neutral economy in ...   \n",
       "2  Ireland open to modest extensions to Northern ...   \n",
       "3  The Next Technology Counter To Fly After YBS (...   \n",
       "4  Reagan’s longtime secretary of state George Sh...   \n",
       "\n",
       "              published_date           source   section language  \n",
       "0   2021-02-08T02:51:00.000Z         The Star     world  english  \n",
       "1   2021-02-08T02:05:00.000Z         The Star     world  english  \n",
       "2       2021-02-07T14:16:32Z          Reuters     world  english  \n",
       "3   2021-02-08T02:41:22+0800  klse.i3investor  business  english  \n",
       "4  2021-02-06T16:00:00+00:00     The National     world  english  "
      ]
     },
     "execution_count": 125,
     "metadata": {},
     "output_type": "execute_result"
    }
   ],
   "source": [
    "portable_df = pd.read_csv(\"data/news_title_only.csv\", nrows = 50000)\n",
    "portable_df.head()"
   ]
  },
  {
   "cell_type": "code",
   "execution_count": 39,
   "metadata": {},
   "outputs": [
    {
     "data": {
      "text/html": [
       "<div>\n",
       "<style scoped>\n",
       "    .dataframe tbody tr th:only-of-type {\n",
       "        vertical-align: middle;\n",
       "    }\n",
       "\n",
       "    .dataframe tbody tr th {\n",
       "        vertical-align: top;\n",
       "    }\n",
       "\n",
       "    .dataframe thead th {\n",
       "        text-align: right;\n",
       "    }\n",
       "</style>\n",
       "<table border=\"1\" class=\"dataframe\">\n",
       "  <thead>\n",
       "    <tr style=\"text-align: right;\">\n",
       "      <th></th>\n",
       "      <th>title</th>\n",
       "      <th>published_date</th>\n",
       "      <th>source</th>\n",
       "      <th>section</th>\n",
       "      <th>language</th>\n",
       "    </tr>\n",
       "  </thead>\n",
       "  <tbody>\n",
       "    <tr>\n",
       "      <th>49995</th>\n",
       "      <td>Going distance for charity | Borneo Post Online</td>\n",
       "      <td>2020-10-19T23:50:19+00:00</td>\n",
       "      <td>The Borneo Post</td>\n",
       "      <td>local</td>\n",
       "      <td>english</td>\n",
       "    </tr>\n",
       "    <tr>\n",
       "      <th>49996</th>\n",
       "      <td>57,329 food baskets distributed in 11 district...</td>\n",
       "      <td>2020-10-19T23:47:14+00:00</td>\n",
       "      <td>The Borneo Post</td>\n",
       "      <td>local</td>\n",
       "      <td>english</td>\n",
       "    </tr>\n",
       "    <tr>\n",
       "      <th>49997</th>\n",
       "      <td>Sabah in dire need of aid - Anwar | Borneo Pos...</td>\n",
       "      <td>2020-10-19T23:45:30+00:00</td>\n",
       "      <td>The Borneo Post</td>\n",
       "      <td>local</td>\n",
       "      <td>english</td>\n",
       "    </tr>\n",
       "    <tr>\n",
       "      <th>49998</th>\n",
       "      <td>Speed up economic revival plans - SME Sabah | ...</td>\n",
       "      <td>2020-10-19T23:42:52+00:00</td>\n",
       "      <td>The Borneo Post</td>\n",
       "      <td>local</td>\n",
       "      <td>english</td>\n",
       "    </tr>\n",
       "    <tr>\n",
       "      <th>49999</th>\n",
       "      <td>Ministry to revamp curriculum</td>\n",
       "      <td>2020-10-20T00:08:11.905342+00:00</td>\n",
       "      <td>Bangkok Post</td>\n",
       "      <td>world</td>\n",
       "      <td>english</td>\n",
       "    </tr>\n",
       "  </tbody>\n",
       "</table>\n",
       "</div>"
      ],
      "text/plain": [
       "                                                   title  \\\n",
       "49995    Going distance for charity | Borneo Post Online   \n",
       "49996  57,329 food baskets distributed in 11 district...   \n",
       "49997  Sabah in dire need of aid - Anwar | Borneo Pos...   \n",
       "49998  Speed up economic revival plans - SME Sabah | ...   \n",
       "49999                      Ministry to revamp curriculum   \n",
       "\n",
       "                         published_date           source section language  \n",
       "49995         2020-10-19T23:50:19+00:00  The Borneo Post   local  english  \n",
       "49996         2020-10-19T23:47:14+00:00  The Borneo Post   local  english  \n",
       "49997         2020-10-19T23:45:30+00:00  The Borneo Post   local  english  \n",
       "49998         2020-10-19T23:42:52+00:00  The Borneo Post   local  english  \n",
       "49999  2020-10-20T00:08:11.905342+00:00     Bangkok Post   world  english  "
      ]
     },
     "execution_count": 39,
     "metadata": {},
     "output_type": "execute_result"
    }
   ],
   "source": [
    "portable_df.tail()"
   ]
  },
  {
   "cell_type": "code",
   "execution_count": 13,
   "metadata": {},
   "outputs": [
    {
     "data": {
      "text/plain": [
       "source      63\n",
       "section      4\n",
       "language     3\n",
       "dtype: int64"
      ]
     },
     "execution_count": 13,
     "metadata": {},
     "output_type": "execute_result"
    }
   ],
   "source": [
    "portable_df[['source', 'section', 'language']].nunique()"
   ]
  },
  {
   "cell_type": "code",
   "execution_count": 15,
   "metadata": {},
   "outputs": [
    {
     "data": {
      "text/plain": [
       "array(['The Star', 'Reuters', 'klse.i3investor', 'The National',\n",
       "       'The Wall Street Journal', 'BBC', 'The Sun Daily',\n",
       "       'New Straits Times', 'Sinchew', 'Berita Harian',\n",
       "       'Free Malaysia Today', 'National Review', 'Inquirer.net',\n",
       "       'The Jakarta Post', 'The Malaysian Reserve', 'Malaymail',\n",
       "       'The Hacker News', 'Daily Express', 'Wired', 'The Edge Markets',\n",
       "       'The Borneo Post', 'The Malaysian Insight', 'Bangkok Post',\n",
       "       'Astro Awani', 'South China Morning Post', 'CNBC', 'Harian Metro',\n",
       "       'Security Week', 'CNN Business', 'Malaysiakini', 'Soyacincau',\n",
       "       'Politico', 'Hong Kong Monetary Authority', 'Says', 'McKinsey',\n",
       "       'The Atlantic', 'paultan.org', 'The Diplomat',\n",
       "       'Central Bank of Ireland', 'Council on Foreign Relations',\n",
       "       'Business Continuity Institute', 'Security Magazine',\n",
       "       'Central Bank News', 'Financial Consumer Agency of Canada',\n",
       "       'Threat Post', 'MPOB Palm News',\n",
       "       'Australian Securities and Investments Commission', 'MARC',\n",
       "       'Financial Supervisory Service Korea', nan, 'RAND Coorporation',\n",
       "       'Sarawak Report', 'Federal Reserve',\n",
       "       'Bank for International Settlements', 'Bank of England', 'OECD',\n",
       "       'CSO Online', 'Consumer Financial Protection Bureau', 'Bernama',\n",
       "       'Financial Conduct Authority UK', 'Continuity Central.com',\n",
       "       'Australian Prudential Regulation Authority',\n",
       "       'Monetory Authority of Singapore', 'Incurance Authority Hong Kong'],\n",
       "      dtype=object)"
      ]
     },
     "execution_count": 15,
     "metadata": {},
     "output_type": "execute_result"
    }
   ],
   "source": [
    "portable_df['source'].unique()"
   ]
  },
  {
   "cell_type": "code",
   "execution_count": 45,
   "metadata": {},
   "outputs": [
    {
     "data": {
      "text/plain": [
       "datetime.datetime(2021, 2, 8, 2, 5, tzinfo=tzutc())"
      ]
     },
     "execution_count": 45,
     "metadata": {},
     "output_type": "execute_result"
    }
   ],
   "source": [
    "portable_df['published_date'][1]"
   ]
  },
  {
   "cell_type": "code",
   "execution_count": 56,
   "metadata": {},
   "outputs": [],
   "source": [
    "portable_df['published_date'] = pd.to_datetime(portable_df['published_date'], utc=True)\n",
    "# add a column for Year\n",
    "#portable_df.dtypes\n",
    "portable_df['Year'] = portable_df['published_date'].dt.year"
   ]
  },
  {
   "cell_type": "code",
   "execution_count": 126,
   "metadata": {},
   "outputs": [
    {
     "data": {
      "text/plain": [
       "title               1\n",
       "published_date    154\n",
       "source             16\n",
       "section            16\n",
       "language           16\n",
       "dtype: int64"
      ]
     },
     "execution_count": 126,
     "metadata": {},
     "output_type": "execute_result"
    }
   ],
   "source": [
    "portable_df.sort_values(by='published_date', inplace=True)\n",
    "portable_df.isnull().sum()"
   ]
  },
  {
   "cell_type": "code",
   "execution_count": 128,
   "metadata": {},
   "outputs": [
    {
     "data": {
      "text/html": [
       "<div>\n",
       "<style scoped>\n",
       "    .dataframe tbody tr th:only-of-type {\n",
       "        vertical-align: middle;\n",
       "    }\n",
       "\n",
       "    .dataframe tbody tr th {\n",
       "        vertical-align: top;\n",
       "    }\n",
       "\n",
       "    .dataframe thead th {\n",
       "        text-align: right;\n",
       "    }\n",
       "</style>\n",
       "<table border=\"1\" class=\"dataframe\">\n",
       "  <thead>\n",
       "    <tr style=\"text-align: right;\">\n",
       "      <th></th>\n",
       "      <th>title</th>\n",
       "      <th>published_date</th>\n",
       "      <th>source</th>\n",
       "      <th>section</th>\n",
       "      <th>language</th>\n",
       "    </tr>\n",
       "  </thead>\n",
       "  <tbody>\n",
       "    <tr>\n",
       "      <th>46255</th>\n",
       "      <td>Why email needs a zero-trust security model</td>\n",
       "      <td>NaN</td>\n",
       "      <td>Security Magazine</td>\n",
       "      <td>world</td>\n",
       "      <td>english</td>\n",
       "    </tr>\n",
       "    <tr>\n",
       "      <th>46256</th>\n",
       "      <td>Packet capture and analysis: The force multipl...</td>\n",
       "      <td>NaN</td>\n",
       "      <td>Security Magazine</td>\n",
       "      <td>world</td>\n",
       "      <td>english</td>\n",
       "    </tr>\n",
       "    <tr>\n",
       "      <th>46257</th>\n",
       "      <td>Why application-layer security is critical in ...</td>\n",
       "      <td>NaN</td>\n",
       "      <td>Security Magazine</td>\n",
       "      <td>world</td>\n",
       "      <td>english</td>\n",
       "    </tr>\n",
       "    <tr>\n",
       "      <th>46258</th>\n",
       "      <td>The year in ransomware: Key targets, extortion...</td>\n",
       "      <td>NaN</td>\n",
       "      <td>Security Magazine</td>\n",
       "      <td>world</td>\n",
       "      <td>english</td>\n",
       "    </tr>\n",
       "    <tr>\n",
       "      <th>49424</th>\n",
       "      <td>What the Bad Neighbor vulnerability means for ...</td>\n",
       "      <td>NaN</td>\n",
       "      <td>Security Magazine</td>\n",
       "      <td>world</td>\n",
       "      <td>english</td>\n",
       "    </tr>\n",
       "  </tbody>\n",
       "</table>\n",
       "</div>"
      ],
      "text/plain": [
       "                                                   title published_date  \\\n",
       "46255        Why email needs a zero-trust security model            NaN   \n",
       "46256  Packet capture and analysis: The force multipl...            NaN   \n",
       "46257  Why application-layer security is critical in ...            NaN   \n",
       "46258  The year in ransomware: Key targets, extortion...            NaN   \n",
       "49424  What the Bad Neighbor vulnerability means for ...            NaN   \n",
       "\n",
       "                  source section language  \n",
       "46255  Security Magazine   world  english  \n",
       "46256  Security Magazine   world  english  \n",
       "46257  Security Magazine   world  english  \n",
       "46258  Security Magazine   world  english  \n",
       "49424  Security Magazine   world  english  "
      ]
     },
     "execution_count": 128,
     "metadata": {},
     "output_type": "execute_result"
    }
   ],
   "source": [
    "portable_df.tail()"
   ]
  },
  {
   "cell_type": "code",
   "execution_count": 62,
   "metadata": {},
   "outputs": [
    {
     "data": {
      "text/html": [
       "<div>\n",
       "<style scoped>\n",
       "    .dataframe tbody tr th:only-of-type {\n",
       "        vertical-align: middle;\n",
       "    }\n",
       "\n",
       "    .dataframe tbody tr th {\n",
       "        vertical-align: top;\n",
       "    }\n",
       "\n",
       "    .dataframe thead th {\n",
       "        text-align: right;\n",
       "    }\n",
       "</style>\n",
       "<table border=\"1\" class=\"dataframe\">\n",
       "  <thead>\n",
       "    <tr style=\"text-align: right;\">\n",
       "      <th></th>\n",
       "      <th>title</th>\n",
       "      <th>published_date</th>\n",
       "      <th>source</th>\n",
       "      <th>section</th>\n",
       "      <th>language</th>\n",
       "      <th>Year</th>\n",
       "    </tr>\n",
       "  </thead>\n",
       "  <tbody>\n",
       "    <tr>\n",
       "      <th>39882</th>\n",
       "      <td>Wanita muda mula kuasai sektor didominasi lelaki</td>\n",
       "      <td>2021-03-15 08:27:22+00:00</td>\n",
       "      <td>Harian Metro</td>\n",
       "      <td>business</td>\n",
       "      <td>malay</td>\n",
       "      <td>2021.0</td>\n",
       "    </tr>\n",
       "    <tr>\n",
       "      <th>39916</th>\n",
       "      <td>Belanda tangguh guna vaksin AstraZeneca</td>\n",
       "      <td>2021-03-15 08:29:34+00:00</td>\n",
       "      <td>Harian Metro</td>\n",
       "      <td>world</td>\n",
       "      <td>malay</td>\n",
       "      <td>2021.0</td>\n",
       "    </tr>\n",
       "    <tr>\n",
       "      <th>39946</th>\n",
       "      <td>Trading ideas: Lay Hong, Seacera, Dataprep, Su...</td>\n",
       "      <td>2021-03-15 08:40:00+00:00</td>\n",
       "      <td>The Star</td>\n",
       "      <td>business</td>\n",
       "      <td>english</td>\n",
       "      <td>2021.0</td>\n",
       "    </tr>\n",
       "    <tr>\n",
       "      <th>39856</th>\n",
       "      <td>Police report lodged over alleged Covid-19 SOP...</td>\n",
       "      <td>2021-03-15 08:44:00+00:00</td>\n",
       "      <td>The Star</td>\n",
       "      <td>local</td>\n",
       "      <td>english</td>\n",
       "      <td>2021.0</td>\n",
       "    </tr>\n",
       "    <tr>\n",
       "      <th>33621</th>\n",
       "      <td>Malaysia’s January unemployment rate rises sli...</td>\n",
       "      <td>2077-03-09 14:51:00+00:00</td>\n",
       "      <td>The Sun Daily</td>\n",
       "      <td>business</td>\n",
       "      <td>english</td>\n",
       "      <td>2077.0</td>\n",
       "    </tr>\n",
       "  </tbody>\n",
       "</table>\n",
       "</div>"
      ],
      "text/plain": [
       "                                                   title  \\\n",
       "39882   Wanita muda mula kuasai sektor didominasi lelaki   \n",
       "39916            Belanda tangguh guna vaksin AstraZeneca   \n",
       "39946  Trading ideas: Lay Hong, Seacera, Dataprep, Su...   \n",
       "39856  Police report lodged over alleged Covid-19 SOP...   \n",
       "33621  Malaysia’s January unemployment rate rises sli...   \n",
       "\n",
       "                 published_date         source   section language    Year  \n",
       "39882 2021-03-15 08:27:22+00:00   Harian Metro  business    malay  2021.0  \n",
       "39916 2021-03-15 08:29:34+00:00   Harian Metro     world    malay  2021.0  \n",
       "39946 2021-03-15 08:40:00+00:00       The Star  business  english  2021.0  \n",
       "39856 2021-03-15 08:44:00+00:00       The Star     local  english  2021.0  \n",
       "33621 2077-03-09 14:51:00+00:00  The Sun Daily  business  english  2077.0  "
      ]
     },
     "execution_count": 62,
     "metadata": {},
     "output_type": "execute_result"
    }
   ],
   "source": [
    "portable_no = portable_df.dropna()\n",
    "portable_no.tail()"
   ]
  },
  {
   "cell_type": "code",
   "execution_count": 53,
   "metadata": {},
   "outputs": [
    {
     "data": {
      "text/plain": [
       "array([2021.,   nan, 2018., 2020., 2019., 2017., 2077., 2016.])"
      ]
     },
     "execution_count": 53,
     "metadata": {},
     "output_type": "execute_result"
    }
   ],
   "source": [
    "portable_df['Year'].unique()"
   ]
  },
  {
   "cell_type": "code",
   "execution_count": 23,
   "metadata": {},
   "outputs": [
    {
     "data": {
      "text/plain": [
       "<AxesSubplot:xlabel='count', ylabel='source'>"
      ]
     },
     "execution_count": 23,
     "metadata": {},
     "output_type": "execute_result"
    },
    {
     "data": {
      "image/png": "[encoded data removed]",
      "text/plain": [
       "<Figure size 504x216 with 1 Axes>"
      ]
     },
     "metadata": {
      "needs_background": "light"
     },
     "output_type": "display_data"
    }
   ],
   "source": [
    "f, ax = plt.subplots(figsize=(7, 3))\n",
    "sns.countplot(y='source', data=portable_df, color=\"c\")"
   ]
  },
  {
   "cell_type": "code",
   "execution_count": 34,
   "metadata": {},
   "outputs": [
    {
     "name": "stderr",
     "output_type": "stream",
     "text": [
      "C:\\Users\\Hazrul Akmal\\AppData\\Local\\Temp\\ipykernel_10476\\276099283.py:1: DtypeWarning: Columns (1,2,3,4) have mixed types. Specify dtype option on import or set low_memory=False.\n",
      "  big_files  = pd.read_csv(\"data/news_title_only.csv\")\n"
     ]
    },
    {
     "name": "stdout",
     "output_type": "stream",
     "text": [
      "number of rows : 10587183.\n",
      "missing values : title             0.000006\n",
      "published_date    0.773161\n",
      "source            0.772970\n",
      "section           0.772970\n",
      "language          0.772970\n",
      "dtype: float64.\n"
     ]
    }
   ],
   "source": [
    "big_files  = pd.read_csv(\"data/news_title_only.csv\")\n",
    "print(f\"number of rows : {big_files.shape[0]}.\")\n",
    "print(f'missing values : {big_files.isna().sum()/len(big_files)}.')\n",
    "print(big_files.info())"
   ]
  },
  {
   "cell_type": "code",
   "execution_count": 130,
   "metadata": {},
   "outputs": [
    {
     "data": {
      "text/plain": [
       "2435052.0900000003"
      ]
     },
     "execution_count": 130,
     "metadata": {},
     "output_type": "execute_result"
    }
   ],
   "source": [
    "10587183*0.23"
   ]
  },
  {
   "cell_type": "code",
   "execution_count": 70,
   "metadata": {},
   "outputs": [
    {
     "data": {
      "text/plain": [
       "(2401520, 5)"
      ]
     },
     "execution_count": 70,
     "metadata": {},
     "output_type": "execute_result"
    }
   ],
   "source": [
    "clean = big_files.dropna(axis=0, subset=[\"published_date\",\"title\"])\n",
    "clean.shape"
   ]
  },
  {
   "cell_type": "code",
   "execution_count": 71,
   "metadata": {},
   "outputs": [
    {
     "data": {
      "text/plain": [
       "title             0\n",
       "published_date    0\n",
       "source            0\n",
       "section           0\n",
       "language          0\n",
       "dtype: int64"
      ]
     },
     "execution_count": 71,
     "metadata": {},
     "output_type": "execute_result"
    }
   ],
   "source": [
    "clean.isnull().sum()"
   ]
  },
  {
   "cell_type": "code",
   "execution_count": 75,
   "metadata": {},
   "outputs": [
    {
     "name": "stderr",
     "output_type": "stream",
     "text": [
      "C:\\Users\\Hazrul Akmal\\AppData\\Local\\Temp\\ipykernel_10476\\1324640294.py:3: SettingWithCopyWarning: \n",
      "A value is trying to be set on a copy of a slice from a DataFrame\n",
      "\n",
      "See the caveats in the documentation: https://pandas.pydata.org/pandas-docs/stable/user_guide/indexing.html#returning-a-view-versus-a-copy\n",
      "  clean.sort_values(by='published_date', inplace=True)\n"
     ]
    },
    {
     "data": {
      "text/plain": [
       "title             0\n",
       "published_date    0\n",
       "source            0\n",
       "section           0\n",
       "language          0\n",
       "dtype: int64"
      ]
     },
     "execution_count": 75,
     "metadata": {},
     "output_type": "execute_result"
    }
   ],
   "source": [
    "#clean['published_date'] = pd.to_datetime(clean['published_date'], utc=True)\n",
    "# add a column for Year\n",
    "clean.sort_values(by='published_date', inplace=True)\n",
    "clean.isnull().sum()"
   ]
  },
  {
   "cell_type": "code",
   "execution_count": 108,
   "metadata": {},
   "outputs": [
    {
     "name": "stderr",
     "output_type": "stream",
     "text": [
      "C:\\Users\\Hazrul Akmal\\AppData\\Local\\Temp\\ipykernel_10476\\1760281744.py:10: SettingWithCopyWarning: \n",
      "A value is trying to be set on a copy of a slice from a DataFrame.\n",
      "Try using .loc[row_indexer,col_indexer] = value instead\n",
      "\n",
      "See the caveats in the documentation: https://pandas.pydata.org/pandas-docs/stable/user_guide/indexing.html#returning-a-view-versus-a-copy\n",
      "  clean[\"published_date_clean\"] = [extract_dates(date) for date in clean[\"published_date\"]]\n"
     ]
    },
    {
     "data": {
      "text/plain": [
       "title                      0\n",
       "published_date             0\n",
       "source                     0\n",
       "section                    0\n",
       "language                   0\n",
       "published_date_clean    4669\n",
       "dtype: int64"
      ]
     },
     "execution_count": 108,
     "metadata": {},
     "output_type": "execute_result"
    }
   ],
   "source": [
    "#dates from news straight time are inconsistent\n",
    "def extract_dates(date):\n",
    "    \"\"\"remove date typo\"\"\"\n",
    "    date = str(date)[:10]\n",
    "    if date[0] == \"2\" or date[:2] == \"19\":\n",
    "        return date\n",
    "    else:\n",
    "        return None\n",
    "\n",
    "clean[\"published_date_clean\"] = [extract_dates(date) for date in clean[\"published_date\"]]\n",
    "clean.isnull().sum()"
   ]
  },
  {
   "cell_type": "code",
   "execution_count": 109,
   "metadata": {},
   "outputs": [
    {
     "name": "stderr",
     "output_type": "stream",
     "text": [
      "C:\\Users\\Hazrul Akmal\\AppData\\Local\\Temp\\ipykernel_10476\\4282838724.py:2: SettingWithCopyWarning: \n",
      "A value is trying to be set on a copy of a slice from a DataFrame.\n",
      "Try using .loc[row_indexer,col_indexer] = value instead\n",
      "\n",
      "See the caveats in the documentation: https://pandas.pydata.org/pandas-docs/stable/user_guide/indexing.html#returning-a-view-versus-a-copy\n",
      "  cleaner['published_date_clean'] = pd.to_datetime(cleaner['published_date_clean'])\n"
     ]
    },
    {
     "data": {
      "text/html": [
       "<div>\n",
       "<style scoped>\n",
       "    .dataframe tbody tr th:only-of-type {\n",
       "        vertical-align: middle;\n",
       "    }\n",
       "\n",
       "    .dataframe tbody tr th {\n",
       "        vertical-align: top;\n",
       "    }\n",
       "\n",
       "    .dataframe thead th {\n",
       "        text-align: right;\n",
       "    }\n",
       "</style>\n",
       "<table border=\"1\" class=\"dataframe\">\n",
       "  <thead>\n",
       "    <tr style=\"text-align: right;\">\n",
       "      <th></th>\n",
       "      <th>title</th>\n",
       "      <th>published_date</th>\n",
       "      <th>source</th>\n",
       "      <th>section</th>\n",
       "      <th>language</th>\n",
       "      <th>published_date_clean</th>\n",
       "    </tr>\n",
       "  </thead>\n",
       "  <tbody>\n",
       "    <tr>\n",
       "      <th>10586403</th>\n",
       "      <td>BNM's international reserve at US$109 bil as a...</td>\n",
       "      <td>2022-07-07T16:05:00+08:00</td>\n",
       "      <td>The Edge Markets</td>\n",
       "      <td>business</td>\n",
       "      <td>english</td>\n",
       "      <td>2022-07-07</td>\n",
       "    </tr>\n",
       "    <tr>\n",
       "      <th>10587123</th>\n",
       "      <td>New UK finance minister Zahawi says PM Johnson...</td>\n",
       "      <td>2022-07-07T16:05:38+08:00</td>\n",
       "      <td>Channel News Asia</td>\n",
       "      <td>world</td>\n",
       "      <td>english</td>\n",
       "      <td>2022-07-07</td>\n",
       "    </tr>\n",
       "    <tr>\n",
       "      <th>10587075</th>\n",
       "      <td>ASEAN Envoy Hails ‘Some Progress’ on Second My...</td>\n",
       "      <td>2022-07-07T16:15:44+00:00</td>\n",
       "      <td>The Diplomat</td>\n",
       "      <td>world</td>\n",
       "      <td>english</td>\n",
       "      <td>2022-07-07</td>\n",
       "    </tr>\n",
       "    <tr>\n",
       "      <th>9731254</th>\n",
       "      <td>IHH Healthcare weighing US$1 billion sale of C...</td>\n",
       "      <td>2022-11-22T21:35:00+08:00</td>\n",
       "      <td>The Edge Markets</td>\n",
       "      <td>business</td>\n",
       "      <td>english</td>\n",
       "      <td>2022-11-22</td>\n",
       "    </tr>\n",
       "    <tr>\n",
       "      <th>33621</th>\n",
       "      <td>Malaysia’s January unemployment rate rises sli...</td>\n",
       "      <td>2077-03-09T14:51:00+00:00</td>\n",
       "      <td>The Sun Daily</td>\n",
       "      <td>business</td>\n",
       "      <td>english</td>\n",
       "      <td>2077-03-09</td>\n",
       "    </tr>\n",
       "  </tbody>\n",
       "</table>\n",
       "</div>"
      ],
      "text/plain": [
       "                                                      title  \\\n",
       "10586403  BNM's international reserve at US$109 bil as a...   \n",
       "10587123  New UK finance minister Zahawi says PM Johnson...   \n",
       "10587075  ASEAN Envoy Hails ‘Some Progress’ on Second My...   \n",
       "9731254   IHH Healthcare weighing US$1 billion sale of C...   \n",
       "33621     Malaysia’s January unemployment rate rises sli...   \n",
       "\n",
       "                     published_date             source   section language  \\\n",
       "10586403  2022-07-07T16:05:00+08:00   The Edge Markets  business  english   \n",
       "10587123  2022-07-07T16:05:38+08:00  Channel News Asia     world  english   \n",
       "10587075  2022-07-07T16:15:44+00:00       The Diplomat     world  english   \n",
       "9731254   2022-11-22T21:35:00+08:00   The Edge Markets  business  english   \n",
       "33621     2077-03-09T14:51:00+00:00      The Sun Daily  business  english   \n",
       "\n",
       "         published_date_clean  \n",
       "10586403           2022-07-07  \n",
       "10587123           2022-07-07  \n",
       "10587075           2022-07-07  \n",
       "9731254            2022-11-22  \n",
       "33621              2077-03-09  "
      ]
     },
     "execution_count": 109,
     "metadata": {},
     "output_type": "execute_result"
    }
   ],
   "source": [
    "cleaner = clean.dropna()\n",
    "cleaner['published_date_clean'] = pd.to_datetime(cleaner['published_date_clean'])\n",
    "cleaner.sort_values(by=\"published_date_clean\")\n",
    "cleaner.tail()"
   ]
  },
  {
   "cell_type": "code",
   "execution_count": 112,
   "metadata": {},
   "outputs": [
    {
     "name": "stderr",
     "output_type": "stream",
     "text": [
      "C:\\Users\\Hazrul Akmal\\AppData\\Local\\Temp\\ipykernel_10476\\3026083020.py:1: SettingWithCopyWarning: \n",
      "A value is trying to be set on a copy of a slice from a DataFrame.\n",
      "Try using .loc[row_indexer,col_indexer] = value instead\n",
      "\n",
      "See the caveats in the documentation: https://pandas.pydata.org/pandas-docs/stable/user_guide/indexing.html#returning-a-view-versus-a-copy\n",
      "  cleaner[\"year\"] = cleaner[\"published_date_clean\"].dt.year\n"
     ]
    },
    {
     "data": {
      "text/plain": [
       "<AxesSubplot:xlabel='count', ylabel='year'>"
      ]
     },
     "execution_count": 112,
     "metadata": {},
     "output_type": "execute_result"
    },
    {
     "data": {
      "image/png": "[encoded data removed]",
      "text/plain": [
       "<Figure size 432x288 with 1 Axes>"
      ]
     },
     "metadata": {
      "needs_background": "light"
     },
     "output_type": "display_data"
    }
   ],
   "source": [
    "cleaner[\"year\"] = cleaner[\"published_date_clean\"].dt.year\n",
    "sns.countplot(y=\"year\", data=cleaner)"
   ]
  },
  {
   "cell_type": "code",
   "execution_count": 124,
   "metadata": {},
   "outputs": [
    {
     "data": {
      "text/plain": [
       "english    1997901\n",
       "malay       251903\n",
       "chinese     147047\n",
       "Name: language, dtype: int64"
      ]
     },
     "execution_count": 124,
     "metadata": {},
     "output_type": "execute_result"
    }
   ],
   "source": [
    "cleaner[\"language\"].value_counts()"
   ]
  },
  {
   "cell_type": "code",
   "execution_count": 123,
   "metadata": {},
   "outputs": [
    {
     "data": {
      "text/plain": [
       "2021    1118008\n",
       "2020     643293\n",
       "2022     634971\n",
       "2019        325\n",
       "2018        114\n",
       "2017         62\n",
       "2014         22\n",
       "2016         14\n",
       "2010          8\n",
       "2015          7\n",
       "2009          7\n",
       "2013          7\n",
       "2011          6\n",
       "2012          4\n",
       "1970          1\n",
       "2008          1\n",
       "2077          1\n",
       "Name: year, dtype: int64"
      ]
     },
     "execution_count": 123,
     "metadata": {},
     "output_type": "execute_result"
    }
   ],
   "source": [
    "cleaner[\"year\"].value_counts()"
   ]
  },
  {
   "cell_type": "code",
   "execution_count": 122,
   "metadata": {},
   "outputs": [
    {
     "data": {
      "text/plain": [
       "<AxesSubplot:>"
      ]
     },
     "execution_count": 122,
     "metadata": {},
     "output_type": "execute_result"
    },
    {
     "data": {
      "image/png": "[encoded data removed]",
      "text/plain": [
       "<Figure size 432x288 with 1 Axes>"
      ]
     },
     "metadata": {
      "needs_background": "light"
     },
     "output_type": "display_data"
    }
   ],
   "source": [
    "cleaner[(cleaner[\"year\"] != 2022) & (cleaner[\"year\"] != 2021) & (cleaner[\"year\"] != 2020)][\"year\"].value_counts().plot(kind=\"bar\")"
   ]
  },
  {
   "cell_type": "code",
   "execution_count": 129,
   "metadata": {},
   "outputs": [
    {
     "data": {
      "text/plain": [
       "(1997901, 7)"
      ]
     },
     "execution_count": 129,
     "metadata": {},
     "output_type": "execute_result"
    }
   ],
   "source": [
    "english = cleaner[cleaner[\"language\"]==\"english\"]\n",
    "english.shape"
   ]
  },
  {
   "cell_type": "code",
   "execution_count": 132,
   "metadata": {},
   "outputs": [
    {
     "name": "stderr",
     "output_type": "stream",
     "text": [
      "Downloading: 100%|██████████| 687/687 [00:00<00:00, 137kB/s]\n",
      "Downloading: 100%|██████████| 1.32G/1.32G [01:53<00:00, 12.5MB/s]\n",
      "Downloading: 100%|██████████| 256/256 [00:00<00:00, 13.5kB/s]\n",
      "Downloading: 100%|██████████| 780k/780k [00:01<00:00, 497kB/s]  \n",
      "Downloading: 100%|██████████| 446k/446k [00:01<00:00, 347kB/s]  \n",
      "Downloading: 100%|██████████| 150/150 [00:00<00:00, 30.0kB/s]\n"
     ]
    },
    {
     "data": {
      "text/plain": [
       "[{'label': 'NEGATIVE', 'score': 0.9992088675498962},\n",
       " {'label': 'POSITIVE', 'score': 0.9988622665405273}]"
      ]
     },
     "execution_count": 132,
     "metadata": {},
     "output_type": "execute_result"
    }
   ],
   "source": [
    "from transformers import pipeline\n",
    "\n",
    "classifier = pipeline(\"sentiment-analysis\", model=\"siebert/sentiment-roberta-large-english\")\n",
    "classifier([\"help me! i dont know what to do\", \"I love my job\"])"
   ]
  },
  {
   "cell_type": "code",
   "execution_count": 136,
   "metadata": {},
   "outputs": [
    {
     "data": {
      "text/plain": [
       "[{'label': 'POSITIVE', 'score': 0.9980159997940063},\n",
       " {'label': 'POSITIVE', 'score': 0.9973478317260742},\n",
       " {'label': 'POSITIVE', 'score': 0.9980508089065552},\n",
       " {'label': 'POSITIVE', 'score': 0.9982903599739075},\n",
       " {'label': 'NEGATIVE', 'score': 0.9979909658432007},\n",
       " {'label': 'POSITIVE', 'score': 0.9706594944000244},\n",
       " {'label': 'POSITIVE', 'score': 0.9957699179649353},\n",
       " {'label': 'POSITIVE', 'score': 0.9973505735397339},\n",
       " {'label': 'NEGATIVE', 'score': 0.9994246959686279},\n",
       " {'label': 'NEGATIVE', 'score': 0.9990830421447754}]"
      ]
     },
     "execution_count": 136,
     "metadata": {},
     "output_type": "execute_result"
    }
   ],
   "source": [
    "pred = classifier(english[\"title\"][:100].to_list())\n",
    "pred[:10]"
   ]
  },
  {
   "cell_type": "code",
   "execution_count": 139,
   "metadata": {},
   "outputs": [],
   "source": [
    "english.to_csv(\"data/english_news.csv\", index=False)"
   ]
  },
  {
   "cell_type": "code",
   "execution_count": 138,
   "metadata": {},
   "outputs": [
    {
     "name": "stderr",
     "output_type": "stream",
     "text": [
      "Downloading: 100%|██████████| 226k/226k [00:00<00:00, 232kB/s]  \n",
      "Downloading: 100%|██████████| 28.0/28.0 [00:00<00:00, 14.0kB/s]\n",
      "Downloading: 100%|██████████| 483/483 [00:00<00:00, 243kB/s]\n",
      "Downloading: 100%|██████████| 256M/256M [00:19<00:00, 14.0MB/s] \n",
      "Some weights of the model checkpoint at distilbert-base-uncased were not used when initializing DistilBertForSequenceClassification: ['vocab_transform.bias', 'vocab_layer_norm.bias', 'vocab_projector.bias', 'vocab_projector.weight', 'vocab_layer_norm.weight', 'vocab_transform.weight']\n",
      "- This IS expected if you are initializing DistilBertForSequenceClassification from the checkpoint of a model trained on another task or with another architecture (e.g. initializing a BertForSequenceClassification model from a BertForPreTraining model).\n",
      "- This IS NOT expected if you are initializing DistilBertForSequenceClassification from the checkpoint of a model that you expect to be exactly identical (initializing a BertForSequenceClassification model from a BertForSequenceClassification model).\n",
      "Some weights of DistilBertForSequenceClassification were not initialized from the model checkpoint at distilbert-base-uncased and are newly initialized: ['pre_classifier.bias', 'classifier.bias', 'classifier.weight', 'pre_classifier.weight']\n",
      "You should probably TRAIN this model on a down-stream task to be able to use it for predictions and inference.\n"
     ]
    },
    {
     "data": {
      "text/plain": [
       "'LABEL_0'"
      ]
     },
     "execution_count": 138,
     "metadata": {},
     "output_type": "execute_result"
    }
   ],
   "source": [
    "import torch\n",
    "from transformers import DistilBertTokenizer, DistilBertForSequenceClassification\n",
    "\n",
    "tokenizer = DistilBertTokenizer.from_pretrained(\"distilbert-base-uncased\")\n",
    "model = DistilBertForSequenceClassification.from_pretrained(\"distilbert-base-uncased\")\n",
    "\n",
    "inputs = tokenizer(\"Hello, my dog is cute\", return_tensors=\"pt\")\n",
    "with torch.no_grad():\n",
    "    logits = model(**inputs).logits\n",
    "\n",
    "predicted_class_id = logits.argmax().item()\n",
    "model.config.id2label[predicted_class_id]"
   ]
  },
  {
   "cell_type": "code",
   "execution_count": 32,
   "metadata": {},
   "outputs": [
    {
     "data": {
      "text/plain": [
       "title       object\n",
       "source      object\n",
       "section     object\n",
       "language    object\n",
       "dtype: object"
      ]
     },
     "execution_count": 32,
     "metadata": {},
     "output_type": "execute_result"
    }
   ],
   "source": [
    "big_files.dtypes"
   ]
  },
  {
   "cell_type": "code",
   "execution_count": 27,
   "metadata": {},
   "outputs": [
    {
     "name": "stdout",
     "output_type": "stream",
     "text": [
      "title       U.S. will not lift sanctions to get Iran to ne...\n",
      "source                                               The Star\n",
      "section                                                 world\n",
      "language                                              english\n",
      "Name: 2021-02-08T02:51:00.000Z, dtype: object\n",
      "title       Euro continues to slide toward dollar parity —...\n",
      "source                                                   CNBC\n",
      "section                                                 world\n",
      "language                                              english\n",
      "Name: 2022-07-07T08:06:51+00:00, dtype: object\n"
     ]
    }
   ],
   "source": [
    "print(big_files.iloc[0,:])\n",
    "print(big_files.iloc[-1,:])"
   ]
  },
  {
   "cell_type": "code",
   "execution_count": 26,
   "metadata": {},
   "outputs": [
    {
     "data": {
      "text/html": [
       "<div>\n",
       "<style scoped>\n",
       "    .dataframe tbody tr th:only-of-type {\n",
       "        vertical-align: middle;\n",
       "    }\n",
       "\n",
       "    .dataframe tbody tr th {\n",
       "        vertical-align: top;\n",
       "    }\n",
       "\n",
       "    .dataframe thead th {\n",
       "        text-align: right;\n",
       "    }\n",
       "</style>\n",
       "<table border=\"1\" class=\"dataframe\">\n",
       "  <thead>\n",
       "    <tr style=\"text-align: right;\">\n",
       "      <th></th>\n",
       "      <th>title</th>\n",
       "      <th>source</th>\n",
       "      <th>section</th>\n",
       "      <th>language</th>\n",
       "    </tr>\n",
       "    <tr>\n",
       "      <th>published_date</th>\n",
       "      <th></th>\n",
       "      <th></th>\n",
       "      <th></th>\n",
       "      <th></th>\n",
       "    </tr>\n",
       "  </thead>\n",
       "  <tbody>\n",
       "    <tr>\n",
       "      <th>2021-02-08T02:51:00.000Z</th>\n",
       "      <td>U.S. will not lift sanctions to get Iran to ne...</td>\n",
       "      <td>The Star</td>\n",
       "      <td>world</td>\n",
       "      <td>english</td>\n",
       "    </tr>\n",
       "    <tr>\n",
       "      <th>2021-02-08T02:05:00.000Z</th>\n",
       "      <td>German SPD targets climate-neutral economy in ...</td>\n",
       "      <td>The Star</td>\n",
       "      <td>world</td>\n",
       "      <td>english</td>\n",
       "    </tr>\n",
       "    <tr>\n",
       "      <th>2021-02-07T14:16:32Z</th>\n",
       "      <td>Ireland open to modest extensions to Northern ...</td>\n",
       "      <td>Reuters</td>\n",
       "      <td>world</td>\n",
       "      <td>english</td>\n",
       "    </tr>\n",
       "    <tr>\n",
       "      <th>2021-02-08T02:41:22+0800</th>\n",
       "      <td>The Next Technology Counter To Fly After YBS (...</td>\n",
       "      <td>klse.i3investor</td>\n",
       "      <td>business</td>\n",
       "      <td>english</td>\n",
       "    </tr>\n",
       "    <tr>\n",
       "      <th>2021-02-06T16:00:00+00:00</th>\n",
       "      <td>Reagan’s longtime secretary of state George Sh...</td>\n",
       "      <td>The National</td>\n",
       "      <td>world</td>\n",
       "      <td>english</td>\n",
       "    </tr>\n",
       "  </tbody>\n",
       "</table>\n",
       "</div>"
      ],
      "text/plain": [
       "                                                                       title  \\\n",
       "published_date                                                                 \n",
       "2021-02-08T02:51:00.000Z   U.S. will not lift sanctions to get Iran to ne...   \n",
       "2021-02-08T02:05:00.000Z   German SPD targets climate-neutral economy in ...   \n",
       "2021-02-07T14:16:32Z       Ireland open to modest extensions to Northern ...   \n",
       "2021-02-08T02:41:22+0800   The Next Technology Counter To Fly After YBS (...   \n",
       "2021-02-06T16:00:00+00:00  Reagan’s longtime secretary of state George Sh...   \n",
       "\n",
       "                                    source   section language  \n",
       "published_date                                                 \n",
       "2021-02-08T02:51:00.000Z          The Star     world  english  \n",
       "2021-02-08T02:05:00.000Z          The Star     world  english  \n",
       "2021-02-07T14:16:32Z               Reuters     world  english  \n",
       "2021-02-08T02:41:22+0800   klse.i3investor  business  english  \n",
       "2021-02-06T16:00:00+00:00     The National     world  english  "
      ]
     },
     "execution_count": 26,
     "metadata": {},
     "output_type": "execute_result"
    }
   ],
   "source": [
    "big_files.sort_index()\n",
    "big_files.head()"
   ]
  }
 ],
 "metadata": {
  "kernelspec": {
   "display_name": "Python 3.10.5 64-bit",
   "language": "python",
   "name": "python3"
  },
  "language_info": {
   "codemirror_mode": {
    "name": "ipython",
    "version": 3
   },
   "file_extension": ".py",
   "mimetype": "text/x-python",
   "name": "python",
   "nbconvert_exporter": "python",
   "pygments_lexer": "ipython3",
   "version": "3.10.5"
  },
  "orig_nbformat": 4,
  "vscode": {
   "interpreter": {
    "hash": "325107ac48b2da5046120ef209c99f8354112f87220bf38b855978ba6df01ef6"
   }
  }
 },
 "nbformat": 4,
 "nbformat_minor": 2
}
